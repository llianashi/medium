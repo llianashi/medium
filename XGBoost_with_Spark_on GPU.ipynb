{
  "nbformat": 4,
  "nbformat_minor": 0,
  "metadata": {
    "colab": {
      "name": "XGBoost with Spark on GPU",
      "provenance": [],
      "collapsed_sections": [],
      "toc_visible": true,
      "authorship_tag": "ABX9TyMTxthv21SAu3lGkth/5Jhg",
      "include_colab_link": true
    },
    "kernelspec": {
      "name": "python3",
      "display_name": "Python 3"
    },
    "accelerator": "GPU"
  },
  "cells": [
    {
      "cell_type": "markdown",
      "metadata": {
        "id": "view-in-github",
        "colab_type": "text"
      },
      "source": [
        "<a href=\"https://colab.research.google.com/github/nhanwei/medium/blob/master/XGBoost_with_Spark_on%C2%A0GPU.ipynb\" target=\"_parent\"><img src=\"https://colab.research.google.com/assets/colab-badge.svg\" alt=\"Open In Colab\"/></a>"
      ]
    },
    {
      "cell_type": "markdown",
      "metadata": {
        "id": "G3n6nDv66HMk",
        "colab_type": "text"
      },
      "source": [
        "# XGBoost with Spark on GPU\n",
        "\n"
      ]
    },
    {
      "cell_type": "code",
      "metadata": {
        "id": "85T4tnHz4ynA",
        "colab_type": "code",
        "colab": {
          "base_uri": "https://localhost:8080/",
          "height": 342
        },
        "outputId": "565add57-9366-45ce-9dd2-c05fa6ab7849"
      },
      "source": [
        "# checking that we have GPU in the system\n",
        "!nvidia-smi"
      ],
      "execution_count": null,
      "outputs": [
        {
          "output_type": "stream",
          "text": [
            "Sun Aug 30 13:28:53 2020       \n",
            "+-----------------------------------------------------------------------------+\n",
            "| NVIDIA-SMI 450.66       Driver Version: 418.67       CUDA Version: 10.1     |\n",
            "|-------------------------------+----------------------+----------------------+\n",
            "| GPU  Name        Persistence-M| Bus-Id        Disp.A | Volatile Uncorr. ECC |\n",
            "| Fan  Temp  Perf  Pwr:Usage/Cap|         Memory-Usage | GPU-Util  Compute M. |\n",
            "|                               |                      |               MIG M. |\n",
            "|===============================+======================+======================|\n",
            "|   0  Tesla T4            Off  | 00000000:00:04.0 Off |                    0 |\n",
            "| N/A   51C    P8    10W /  70W |      0MiB / 15079MiB |      0%      Default |\n",
            "|                               |                      |                 ERR! |\n",
            "+-------------------------------+----------------------+----------------------+\n",
            "                                                                               \n",
            "+-----------------------------------------------------------------------------+\n",
            "| Processes:                                                                  |\n",
            "|  GPU   GI   CI        PID   Type   Process name                  GPU Memory |\n",
            "|        ID   ID                                                   Usage      |\n",
            "|=============================================================================|\n",
            "|  No running processes found                                                 |\n",
            "+-----------------------------------------------------------------------------+\n"
          ],
          "name": "stdout"
        }
      ]
    },
    {
      "cell_type": "markdown",
      "metadata": {
        "id": "fjFxmZaY6YV9",
        "colab_type": "text"
      },
      "source": [
        "Take note that we are using **CUDA 10.1** with **Tesla T4**. We have 15,000 MiB of memory which are all free now."
      ]
    },
    {
      "cell_type": "code",
      "metadata": {
        "id": "CZM3AUDs5sp8",
        "colab_type": "code",
        "colab": {}
      },
      "source": [
        "# getting JDK because Spark is developed using Scala which requires Java runtime environment\n",
        "!apt-get install openjdk-8-jdk-headless -qq > /dev/null\n",
        "# downloading and unzipping the Spark\n",
        "!wget -q https://downloads.apache.org/spark/spark-3.0.0/spark-3.0.0-bin-hadoop2.7.tgz\n",
        "!tar xf spark-3.0.0-bin-hadoop2.7.tgz\n",
        "# findspark is a utility that automatically set all the os path and initialize the spark context\n",
        "!pip install -q findspark"
      ],
      "execution_count": null,
      "outputs": []
    },
    {
      "cell_type": "code",
      "metadata": {
        "id": "5owzpJVM58vX",
        "colab_type": "code",
        "colab": {
          "base_uri": "https://localhost:8080/",
          "height": 732
        },
        "outputId": "a266b82b-538b-45bc-829c-ab6bb0357208"
      },
      "source": [
        "# if you want to use cuda. make sure the version is correct as above\n",
        "!wget https://repo1.maven.org/maven2/ai/rapids/cudf/0.14/cudf-0.14-cuda10-1.jar\n",
        "# downloading xgboost\n",
        "!wget https://repo1.maven.org/maven2/com/nvidia/xgboost4j_3.0/1.0.0-0.1.0/xgboost4j_3.0-1.0.0-0.1.0.jar   \n",
        "!wget https://repo1.maven.org/maven2/com/nvidia/xgboost4j-spark_3.0/1.0.0-0.1.0/xgboost4j-spark_3.0-1.0.0-0.1.0.jar   \n",
        "# rapids for spark is nvidia's framework to train ml models on gpu\n",
        "!wget http://insecure.repo1.maven.org/maven2/com/nvidia/rapids-4-spark_2.12/0.1.0/rapids-4-spark_2.12-0.1.0.jar"
      ],
      "execution_count": null,
      "outputs": [
        {
          "output_type": "stream",
          "text": [
            "--2020-08-30 13:29:35--  https://repo1.maven.org/maven2/ai/rapids/cudf/0.14/cudf-0.14-cuda10-1.jar\n",
            "Resolving repo1.maven.org (repo1.maven.org)... 151.101.52.209\n",
            "Connecting to repo1.maven.org (repo1.maven.org)|151.101.52.209|:443... connected.\n",
            "HTTP request sent, awaiting response... 200 OK\n",
            "Length: 145993287 (139M) [application/java-archive]\n",
            "Saving to: ‘cudf-0.14-cuda10-1.jar’\n",
            "\n",
            "cudf-0.14-cuda10-1. 100%[===================>] 139.23M   193MB/s    in 0.7s    \n",
            "\n",
            "2020-08-30 13:29:36 (193 MB/s) - ‘cudf-0.14-cuda10-1.jar’ saved [145993287/145993287]\n",
            "\n",
            "--2020-08-30 13:29:36--  https://repo1.maven.org/maven2/com/nvidia/xgboost4j_3.0/1.0.0-0.1.0/xgboost4j_3.0-1.0.0-0.1.0.jar\n",
            "Resolving repo1.maven.org (repo1.maven.org)... 151.101.52.209\n",
            "Connecting to repo1.maven.org (repo1.maven.org)|151.101.52.209|:443... connected.\n",
            "HTTP request sent, awaiting response... 200 OK\n",
            "Length: 231556205 (221M) [application/java-archive]\n",
            "Saving to: ‘xgboost4j_3.0-1.0.0-0.1.0.jar’\n",
            "\n",
            "xgboost4j_3.0-1.0.0 100%[===================>] 220.83M   213MB/s    in 1.0s    \n",
            "\n",
            "2020-08-30 13:29:37 (213 MB/s) - ‘xgboost4j_3.0-1.0.0-0.1.0.jar’ saved [231556205/231556205]\n",
            "\n",
            "--2020-08-30 13:29:37--  https://repo1.maven.org/maven2/com/nvidia/xgboost4j-spark_3.0/1.0.0-0.1.0/xgboost4j-spark_3.0-1.0.0-0.1.0.jar\n",
            "Resolving repo1.maven.org (repo1.maven.org)... 151.101.52.209\n",
            "Connecting to repo1.maven.org (repo1.maven.org)|151.101.52.209|:443... connected.\n",
            "HTTP request sent, awaiting response... 200 OK\n",
            "Length: 2040779 (1.9M) [application/java-archive]\n",
            "Saving to: ‘xgboost4j-spark_3.0-1.0.0-0.1.0.jar’\n",
            "\n",
            "xgboost4j-spark_3.0 100%[===================>]   1.95M  --.-KB/s    in 0.1s    \n",
            "\n",
            "2020-08-30 13:29:37 (15.7 MB/s) - ‘xgboost4j-spark_3.0-1.0.0-0.1.0.jar’ saved [2040779/2040779]\n",
            "\n",
            "--2020-08-30 13:29:37--  http://insecure.repo1.maven.org/maven2/com/nvidia/rapids-4-spark_2.12/0.1.0/rapids-4-spark_2.12-0.1.0.jar\n",
            "Resolving insecure.repo1.maven.org (insecure.repo1.maven.org)... 151.101.0.204, 151.101.64.204, 151.101.128.204, ...\n",
            "Connecting to insecure.repo1.maven.org (insecure.repo1.maven.org)|151.101.0.204|:80... connected.\n",
            "HTTP request sent, awaiting response... 200 OK\n",
            "Length: 6676958 (6.4M) [application/java-archive]\n",
            "Saving to: ‘rapids-4-spark_2.12-0.1.0.jar’\n",
            "\n",
            "rapids-4-spark_2.12 100%[===================>]   6.37M  --.-KB/s    in 0.08s   \n",
            "\n",
            "2020-08-30 13:29:38 (79.6 MB/s) - ‘rapids-4-spark_2.12-0.1.0.jar’ saved [6676958/6676958]\n",
            "\n"
          ],
          "name": "stdout"
        }
      ]
    },
    {
      "cell_type": "code",
      "metadata": {
        "id": "yqXz1HZp9qIv",
        "colab_type": "code",
        "colab": {}
      },
      "source": [
        "# before doing findspark\n",
        "import os \n",
        "os.environ[\"JAVA_HOME\"] = \"/usr/lib/jvm/java-8-openjdk-amd64\" # set java home\n",
        "os.environ[\"SPARK_HOME\"] = \"/content/spark-3.0.0-bin-hadoop2.7\" # set spark home. it's the file we downloaded and unpacked just now\n",
        "# transfer all the jar file to the cluster\n",
        "# usually we list this in the command line when we submit spark jobs. \n",
        "# however, since we are working interactively with spark, we set it here\n",
        "os.environ['PYSPARK_SUBMIT_ARGS'] = '--jars /content/cudf-0.14-cuda10-1.jar,/content/xgboost4j_3.0-1.0.0-0.1.0.jar,/content/xgboost4j-spark_3.0-1.0.0-0.1.0.jar,/content/rapids-4-spark_2.12-0.1.0.jar pyspark-shell'"
      ],
      "execution_count": null,
      "outputs": []
    },
    {
      "cell_type": "code",
      "metadata": {
        "id": "UcsTxGfa8lvV",
        "colab_type": "code",
        "colab": {}
      },
      "source": [
        "import findspark \n",
        "findspark.init() # go to the spark and java home to initiate the environment\n",
        "from pyspark.sql import SparkSession\n",
        "# line 7: either cluster or local\n",
        "# line 8: to run on GPU\n",
        "# line 9: Should RMM act as a pooling allocator for GPU memory, or should it just pass through to CUDA memory allocation directly\n",
        "spark = SparkSession.builder.master(\"local[*]\").\\\n",
        "        config(\"spark.plugins\", \"com.nvidia.spark.SQLPlugin\").\\\n",
        "        config(\"spark.rapids.memory.gpu.pooling.enabled\", False).\\\n",
        "        getOrCreate()\n",
        "\n",
        "# these jars have some python files that we need to use\n",
        "spark.sparkContext.addPyFile(\"/content/xgboost4j-spark_3.0-1.0.0-0.1.0.jar\")\n",
        "spark.sparkContext.addPyFile(\"/content/rapids-4-spark_2.12-0.1.0.jar\")"
      ],
      "execution_count": null,
      "outputs": []
    },
    {
      "cell_type": "markdown",
      "metadata": {
        "id": "UxQEwVGM1B5E",
        "colab_type": "text"
      },
      "source": [
        "## XGBoost model with Spark\n",
        "The <a href='https://github.com/NVIDIA/spark-xgboost-examples/blob/spark-3/api-docs/python.md#xgboostclassifier'>Pyspark XGBoost API</a> is a wrapper around the <a href='https://github.com/NVIDIA/spark-xgboost-examples/blob/spark-3/api-docs/scala.md#xgboostclassifier'>Scala XGBoostClassifier</a>.\n",
        "\n",
        "All standard parameters are supported. Look <a href='https://xgboost.readthedocs.io/en/latest/parameter.html'>here</a> and <a href='https://xgboost.readthedocs.io/en/latest/jvm/scaladocs/xgboost4j-spark/ml/dmlc/xgboost4j/scala/spark/XGBoostClassifier.html'>here</a> for more details.\n"
      ]
    },
    {
      "cell_type": "code",
      "metadata": {
        "id": "OoNA8_rwXOe4",
        "colab_type": "code",
        "colab": {}
      },
      "source": [
        "# these XGBoost models are wrapper around scala xgboost classifier\n",
        "# most standard parameters are supported\n",
        "from ml.dmlc.xgboost4j.scala.spark import XGBoostClassificationModel, XGBoostClassifier\n",
        "import pandas as pd\n",
        "import time"
      ],
      "execution_count": null,
      "outputs": []
    },
    {
      "cell_type": "markdown",
      "metadata": {
        "id": "p2halmuCfz9V",
        "colab_type": "text"
      },
      "source": [
        "## Downloading data\n",
        "We are getting the **Covertype** dataset (`https://archive.ics.uci.edu/ml/datasets/covertype`). Basically, you are asked to predict forest cover type from cartograph\n",
        "ic variables only. Srivatsan88 has converted the csv files into parquet files and uploaded to github. Let's use that.\n",
        "\n",
        "Parquet is a columnar data format that is more efficient and saves storage space. If you find yourself dealing with **certain columns** of large datasets (e.g. time series), you might want to consider using parquet files to store your data to reduce IO. "
      ]
    },
    {
      "cell_type": "code",
      "metadata": {
        "id": "e3JNN83_XU1k",
        "colab_type": "code",
        "colab": {
          "base_uri": "https://localhost:8080/",
          "height": 375
        },
        "outputId": "6c1a8c13-4092-4e27-9c42-042e3e5adc0d"
      },
      "source": [
        "!wget https://raw.githubusercontent.com/srivatsan88/YoutubeLI/master/dataset/covtype_train.parquet\n",
        "!wget https://raw.githubusercontent.com/srivatsan88/YoutubeLI/master/dataset/covtype_test.parquet"
      ],
      "execution_count": null,
      "outputs": [
        {
          "output_type": "stream",
          "text": [
            "--2020-08-30 13:29:53--  https://raw.githubusercontent.com/srivatsan88/YoutubeLI/master/dataset/covtype_train.parquet\n",
            "Resolving raw.githubusercontent.com (raw.githubusercontent.com)... 151.101.0.133, 151.101.64.133, 151.101.128.133, ...\n",
            "Connecting to raw.githubusercontent.com (raw.githubusercontent.com)|151.101.0.133|:443... connected.\n",
            "HTTP request sent, awaiting response... 200 OK\n",
            "Length: 6827427 (6.5M) [application/octet-stream]\n",
            "Saving to: ‘covtype_train.parquet’\n",
            "\n",
            "covtype_train.parqu 100%[===================>]   6.51M  25.7MB/s    in 0.3s    \n",
            "\n",
            "2020-08-30 13:29:54 (25.7 MB/s) - ‘covtype_train.parquet’ saved [6827427/6827427]\n",
            "\n",
            "--2020-08-30 13:29:54--  https://raw.githubusercontent.com/srivatsan88/YoutubeLI/master/dataset/covtype_test.parquet\n",
            "Resolving raw.githubusercontent.com (raw.githubusercontent.com)... 151.101.0.133, 151.101.64.133, 151.101.128.133, ...\n",
            "Connecting to raw.githubusercontent.com (raw.githubusercontent.com)|151.101.0.133|:443... connected.\n",
            "HTTP request sent, awaiting response... 200 OK\n",
            "Length: 1591040 (1.5M) [application/octet-stream]\n",
            "Saving to: ‘covtype_test.parquet’\n",
            "\n",
            "covtype_test.parque 100%[===================>]   1.52M  --.-KB/s    in 0.05s   \n",
            "\n",
            "2020-08-30 13:29:54 (31.1 MB/s) - ‘covtype_test.parquet’ saved [1591040/1591040]\n",
            "\n"
          ],
          "name": "stdout"
        }
      ]
    },
    {
      "cell_type": "code",
      "metadata": {
        "id": "g4s_bRBbgVfv",
        "colab_type": "code",
        "colab": {
          "base_uri": "https://localhost:8080/",
          "height": 460
        },
        "outputId": "f3d03ca7-52fc-4f1d-c98c-3ce3979b8768"
      },
      "source": [
        "reader = spark.read\n",
        "train_data = reader.parquet(\"/content/covtype_train.parquet\")\n",
        "test_data = reader.parquet(\"/content/covtype_test.parquet\")\n",
        "train_data.show()"
      ],
      "execution_count": null,
      "outputs": [
        {
          "output_type": "stream",
          "text": [
            "+---------+------+-----+--------------------------------+------------------------------+-------------------------------+-------------+--------------+-------------+----------------------------------+----------------+----------------+----------------+----------------+----------+----------+----------+----------+----------+----------+----------+----------+----------+-----------+-----------+-----------+-----------+-----------+-----------+-----------+-----------+-----------+-----------+-----------+-----------+-----------+-----------+-----------+-----------+-----------+-----------+-----------+-----------+-----------+-----------+-----------+-----------+-----------+-----------+-----------+-----------+-----------+-----------+-----------+------+\n",
            "|Elevation|Aspect|Slope|Horizontal_Distance_To_Hydrology|Vertical_Distance_To_Hydrology|Horizontal_Distance_To_Roadways|Hillshade_9am|Hillshade_Noon|Hillshade_3pm|Horizontal_Distance_To_Fire_Points|Wilderness_Area1|Wilderness_Area2|Wilderness_Area3|Wilderness_Area4|Soil_Type1|Soil_Type2|Soil_Type3|Soil_Type4|Soil_Type5|Soil_Type6|Soil_Type7|Soil_Type8|Soil_Type9|Soil_Type10|Soil_Type11|Soil_Type12|Soil_Type13|Soil_Type14|Soil_Type15|Soil_Type16|Soil_Type17|Soil_Type18|Soil_Type19|Soil_Type20|Soil_Type21|Soil_Type22|Soil_Type23|Soil_Type24|Soil_Type25|Soil_Type26|Soil_Type27|Soil_Type28|Soil_Type29|Soil_Type30|Soil_Type31|Soil_Type32|Soil_Type33|Soil_Type34|Soil_Type35|Soil_Type36|Soil_Type37|Soil_Type38|Soil_Type39|Soil_Type40|target|\n",
            "+---------+------+-----+--------------------------------+------------------------------+-------------------------------+-------------+--------------+-------------+----------------------------------+----------------+----------------+----------------+----------------+----------+----------+----------+----------+----------+----------+----------+----------+----------+-----------+-----------+-----------+-----------+-----------+-----------+-----------+-----------+-----------+-----------+-----------+-----------+-----------+-----------+-----------+-----------+-----------+-----------+-----------+-----------+-----------+-----------+-----------+-----------+-----------+-----------+-----------+-----------+-----------+-----------+-----------+------+\n",
            "|   3381.0|   0.0| 18.0|                           497.0|                         187.0|                         4201.0|        190.0|         203.0|        147.0|                            3736.0|             0.0|             0.0|             1.0|             0.0|       0.0|       0.0|       0.0|       0.0|       0.0|       0.0|       0.0|       0.0|       0.0|        0.0|        0.0|        0.0|        0.0|        0.0|        0.0|        0.0|        0.0|        0.0|        0.0|        0.0|        0.0|        0.0|        0.0|        0.0|        0.0|        0.0|        0.0|        0.0|        0.0|        0.0|        0.0|        0.0|        0.0|        0.0|        0.0|        0.0|        0.0|        0.0|        0.0|        1.0|     6|\n",
            "|   3039.0| 291.0| 12.0|                           361.0|                          87.0|                          618.0|        187.0|         238.0|        191.0|                             742.0|             0.0|             1.0|             0.0|             0.0|       0.0|       0.0|       0.0|       0.0|       0.0|       0.0|       0.0|       0.0|       0.0|        0.0|        0.0|        0.0|        0.0|        0.0|        0.0|        0.0|        0.0|        0.0|        0.0|        0.0|        0.0|        1.0|        0.0|        0.0|        0.0|        0.0|        0.0|        0.0|        0.0|        0.0|        0.0|        0.0|        0.0|        0.0|        0.0|        0.0|        0.0|        0.0|        0.0|        0.0|     1|\n",
            "|   3318.0| 353.0| 21.0|                           309.0|                          84.0|                         4548.0|        179.0|         198.0|        153.0|                            1324.0|             0.0|             0.0|             1.0|             0.0|       0.0|       0.0|       0.0|       0.0|       0.0|       0.0|       0.0|       0.0|       0.0|        0.0|        0.0|        0.0|        0.0|        0.0|        0.0|        0.0|        0.0|        0.0|        0.0|        0.0|        0.0|        0.0|        0.0|        0.0|        0.0|        0.0|        0.0|        0.0|        0.0|        0.0|        0.0|        0.0|        0.0|        0.0|        0.0|        0.0|        0.0|        0.0|        1.0|        0.0|     0|\n",
            "|   2823.0|  67.0| 13.0|                           170.0|                          54.0|                         2514.0|        233.0|         213.0|        110.0|                            2879.0|             1.0|             0.0|             0.0|             0.0|       0.0|       0.0|       0.0|       0.0|       0.0|       0.0|       0.0|       0.0|       0.0|        0.0|        0.0|        0.0|        0.0|        0.0|        0.0|        0.0|        0.0|        0.0|        0.0|        0.0|        0.0|        0.0|        0.0|        0.0|        0.0|        0.0|        0.0|        0.0|        1.0|        0.0|        0.0|        0.0|        0.0|        0.0|        0.0|        0.0|        0.0|        0.0|        0.0|        0.0|     1|\n",
            "|   3211.0|  16.0| 19.0|                           350.0|                          36.0|                         3254.0|        200.0|         196.0|        128.0|                            3129.0|             0.0|             0.0|             1.0|             0.0|       0.0|       0.0|       0.0|       0.0|       0.0|       0.0|       0.0|       0.0|       0.0|        0.0|        0.0|        0.0|        0.0|        0.0|        0.0|        0.0|        0.0|        0.0|        0.0|        0.0|        0.0|        0.0|        0.0|        1.0|        0.0|        0.0|        0.0|        0.0|        0.0|        0.0|        0.0|        0.0|        0.0|        0.0|        0.0|        0.0|        0.0|        0.0|        0.0|        0.0|     1|\n",
            "|   2797.0| 129.0|  9.0|                             0.0|                           0.0|                         2400.0|        235.0|         235.0|        130.0|                            1611.0|             0.0|             0.0|             1.0|             0.0|       0.0|       0.0|       0.0|       0.0|       0.0|       0.0|       0.0|       0.0|       0.0|        0.0|        0.0|        0.0|        1.0|        0.0|        0.0|        0.0|        0.0|        0.0|        0.0|        0.0|        0.0|        0.0|        0.0|        0.0|        0.0|        0.0|        0.0|        0.0|        0.0|        0.0|        0.0|        0.0|        0.0|        0.0|        0.0|        0.0|        0.0|        0.0|        0.0|        0.0|     1|\n",
            "|   3385.0| 282.0|  8.0|                           899.0|                         179.0|                         1092.0|        198.0|         241.0|        182.0|                            2130.0|             0.0|             0.0|             1.0|             0.0|       0.0|       0.0|       0.0|       0.0|       0.0|       0.0|       0.0|       0.0|       0.0|        0.0|        0.0|        0.0|        0.0|        0.0|        0.0|        0.0|        0.0|        0.0|        0.0|        0.0|        0.0|        0.0|        0.0|        0.0|        0.0|        0.0|        0.0|        0.0|        0.0|        0.0|        0.0|        1.0|        0.0|        0.0|        0.0|        0.0|        0.0|        0.0|        0.0|        0.0|     0|\n",
            "|   3065.0|   0.0|  4.0|                           242.0|                          10.0|                         3298.0|        214.0|         232.0|        156.0|                             485.0|             1.0|             0.0|             0.0|             0.0|       0.0|       0.0|       0.0|       0.0|       0.0|       0.0|       0.0|       0.0|       0.0|        0.0|        0.0|        0.0|        0.0|        0.0|        0.0|        0.0|        0.0|        0.0|        0.0|        0.0|        0.0|        1.0|        0.0|        0.0|        0.0|        0.0|        0.0|        0.0|        0.0|        0.0|        0.0|        0.0|        0.0|        0.0|        0.0|        0.0|        0.0|        0.0|        0.0|        0.0|     0|\n",
            "|   3209.0| 157.0|  7.0|                           309.0|                          46.0|                         5057.0|        228.0|         241.0|        146.0|                            1575.0|             1.0|             0.0|             0.0|             0.0|       0.0|       0.0|       0.0|       0.0|       0.0|       0.0|       0.0|       0.0|       0.0|        0.0|        0.0|        0.0|        0.0|        0.0|        0.0|        0.0|        0.0|        0.0|        0.0|        0.0|        0.0|        0.0|        0.0|        0.0|        0.0|        0.0|        0.0|        0.0|        1.0|        0.0|        0.0|        0.0|        0.0|        0.0|        0.0|        0.0|        0.0|        0.0|        0.0|        0.0|     0|\n",
            "|   3004.0| 151.0| 18.0|                            90.0|                           3.0|                         3458.0|        240.0|         237.0|        120.0|                            5949.0|             1.0|             0.0|             0.0|             0.0|       0.0|       0.0|       0.0|       0.0|       0.0|       0.0|       0.0|       0.0|       0.0|        0.0|        0.0|        0.0|        0.0|        0.0|        0.0|        0.0|        0.0|        0.0|        0.0|        0.0|        0.0|        0.0|        0.0|        0.0|        0.0|        0.0|        0.0|        0.0|        1.0|        0.0|        0.0|        0.0|        0.0|        0.0|        0.0|        0.0|        0.0|        0.0|        0.0|        0.0|     1|\n",
            "|   2898.0| 124.0|  5.0|                           335.0|                          65.0|                         2989.0|        229.0|         236.0|        140.0|                            2230.0|             1.0|             0.0|             0.0|             0.0|       0.0|       0.0|       0.0|       0.0|       0.0|       0.0|       0.0|       0.0|       0.0|        0.0|        0.0|        1.0|        0.0|        0.0|        0.0|        0.0|        0.0|        0.0|        0.0|        0.0|        0.0|        0.0|        0.0|        0.0|        0.0|        0.0|        0.0|        0.0|        0.0|        0.0|        0.0|        0.0|        0.0|        0.0|        0.0|        0.0|        0.0|        0.0|        0.0|        0.0|     1|\n",
            "|   2925.0|   5.0| 28.0|                           150.0|                          58.0|                          272.0|        172.0|         173.0|        127.0|                             162.0|             0.0|             0.0|             1.0|             0.0|       0.0|       0.0|       0.0|       0.0|       0.0|       0.0|       0.0|       0.0|       0.0|        0.0|        0.0|        0.0|        0.0|        0.0|        0.0|        0.0|        0.0|        0.0|        0.0|        0.0|        0.0|        0.0|        0.0|        0.0|        0.0|        0.0|        0.0|        0.0|        0.0|        0.0|        0.0|        0.0|        1.0|        0.0|        0.0|        0.0|        0.0|        0.0|        0.0|        0.0|     1|\n",
            "|   3153.0|  30.0| 12.0|                           216.0|                           9.0|                         3072.0|        216.0|         214.0|        132.0|                            3150.0|             0.0|             0.0|             1.0|             0.0|       0.0|       0.0|       0.0|       0.0|       0.0|       0.0|       0.0|       0.0|       0.0|        0.0|        0.0|        0.0|        0.0|        0.0|        0.0|        0.0|        0.0|        0.0|        0.0|        0.0|        0.0|        0.0|        0.0|        1.0|        0.0|        0.0|        0.0|        0.0|        0.0|        0.0|        0.0|        0.0|        0.0|        0.0|        0.0|        0.0|        0.0|        0.0|        0.0|        0.0|     1|\n",
            "|   3264.0| 113.0|  7.0|                           210.0|                          31.0|                         1950.0|        233.0|         233.0|        132.0|                            1399.0|             1.0|             0.0|             0.0|             0.0|       0.0|       0.0|       0.0|       0.0|       0.0|       0.0|       0.0|       0.0|       0.0|        0.0|        0.0|        0.0|        0.0|        0.0|        0.0|        0.0|        0.0|        0.0|        0.0|        0.0|        0.0|        0.0|        0.0|        0.0|        0.0|        0.0|        0.0|        0.0|        1.0|        0.0|        0.0|        0.0|        0.0|        0.0|        0.0|        0.0|        0.0|        0.0|        0.0|        0.0|     1|\n",
            "|   2985.0| 320.0| 16.0|                           120.0|                           4.0|                         3837.0|        177.0|         223.0|        185.0|                            1521.0|             1.0|             0.0|             0.0|             0.0|       0.0|       0.0|       0.0|       0.0|       0.0|       0.0|       0.0|       0.0|       0.0|        0.0|        0.0|        0.0|        0.0|        0.0|        0.0|        0.0|        0.0|        0.0|        0.0|        0.0|        0.0|        0.0|        0.0|        0.0|        0.0|        0.0|        0.0|        0.0|        1.0|        0.0|        0.0|        0.0|        0.0|        0.0|        0.0|        0.0|        0.0|        0.0|        0.0|        0.0|     1|\n",
            "|   3130.0| 301.0| 21.0|                           242.0|                          85.0|                          210.0|        157.0|         226.0|        207.0|                            1896.0|             0.0|             1.0|             0.0|             0.0|       0.0|       0.0|       0.0|       0.0|       0.0|       0.0|       0.0|       0.0|       0.0|        0.0|        0.0|        0.0|        0.0|        0.0|        0.0|        0.0|        0.0|        0.0|        0.0|        0.0|        0.0|        1.0|        0.0|        0.0|        0.0|        0.0|        0.0|        0.0|        0.0|        0.0|        0.0|        0.0|        0.0|        0.0|        0.0|        0.0|        0.0|        0.0|        0.0|        0.0|     0|\n",
            "|   2901.0| 145.0| 14.0|                           258.0|                          56.0|                         2188.0|        239.0|         237.0|        125.0|                             759.0|             0.0|             0.0|             1.0|             0.0|       0.0|       0.0|       0.0|       0.0|       0.0|       0.0|       0.0|       0.0|       0.0|        0.0|        0.0|        0.0|        0.0|        0.0|        0.0|        0.0|        0.0|        0.0|        0.0|        0.0|        0.0|        0.0|        0.0|        0.0|        0.0|        0.0|        0.0|        0.0|        0.0|        0.0|        0.0|        1.0|        0.0|        0.0|        0.0|        0.0|        0.0|        0.0|        0.0|        0.0|     1|\n",
            "|   3302.0| 144.0| 16.0|                           417.0|                          16.0|                         1084.0|        241.0|         235.0|        118.0|                            2803.0|             1.0|             0.0|             0.0|             0.0|       0.0|       0.0|       0.0|       0.0|       0.0|       0.0|       0.0|       0.0|       0.0|        0.0|        0.0|        0.0|        0.0|        0.0|        0.0|        0.0|        0.0|        0.0|        0.0|        0.0|        0.0|        1.0|        0.0|        0.0|        0.0|        0.0|        0.0|        0.0|        0.0|        0.0|        0.0|        0.0|        0.0|        0.0|        0.0|        0.0|        0.0|        0.0|        0.0|        0.0|     0|\n",
            "|   2184.0| 331.0| 30.0|                           124.0|                          72.0|                          745.0|        137.0|         188.0|        183.0|                             404.0|             0.0|             0.0|             0.0|             1.0|       0.0|       0.0|       0.0|       0.0|       0.0|       0.0|       0.0|       0.0|       0.0|        1.0|        0.0|        0.0|        0.0|        0.0|        0.0|        0.0|        0.0|        0.0|        0.0|        0.0|        0.0|        0.0|        0.0|        0.0|        0.0|        0.0|        0.0|        0.0|        0.0|        0.0|        0.0|        0.0|        0.0|        0.0|        0.0|        0.0|        0.0|        0.0|        0.0|        0.0|     2|\n",
            "|   3093.0| 164.0| 14.0|                           108.0|                           0.0|                         6975.0|        232.0|         244.0|        140.0|                            2574.0|             1.0|             0.0|             0.0|             0.0|       0.0|       0.0|       0.0|       0.0|       0.0|       0.0|       0.0|       0.0|       0.0|        0.0|        0.0|        0.0|        0.0|        0.0|        0.0|        0.0|        0.0|        0.0|        0.0|        0.0|        0.0|        0.0|        0.0|        0.0|        0.0|        0.0|        0.0|        0.0|        1.0|        0.0|        0.0|        0.0|        0.0|        0.0|        0.0|        0.0|        0.0|        0.0|        0.0|        0.0|     1|\n",
            "+---------+------+-----+--------------------------------+------------------------------+-------------------------------+-------------+--------------+-------------+----------------------------------+----------------+----------------+----------------+----------------+----------+----------+----------+----------+----------+----------+----------+----------+----------+-----------+-----------+-----------+-----------+-----------+-----------+-----------+-----------+-----------+-----------+-----------+-----------+-----------+-----------+-----------+-----------+-----------+-----------+-----------+-----------+-----------+-----------+-----------+-----------+-----------+-----------+-----------+-----------+-----------+-----------+-----------+------+\n",
            "only showing top 20 rows\n",
            "\n"
          ],
          "name": "stdout"
        }
      ]
    },
    {
      "cell_type": "code",
      "metadata": {
        "id": "38TnX1SxiwMw",
        "colab_type": "code",
        "colab": {}
      },
      "source": [
        "# getting the feature names\n",
        "target = 'target'\n",
        "features = [feat for feat in train_data.schema.names if feat != target]"
      ],
      "execution_count": null,
      "outputs": []
    },
    {
      "cell_type": "code",
      "metadata": {
        "id": "foBB0aR1jWPo",
        "colab_type": "code",
        "colab": {}
      },
      "source": [
        "# setting parameters. you can find these parameters in the link above.\n",
        "params = {'eta': 0.1, 'gamma': 0.1, 'missing': 0.0,\n",
        "          'treeMethod': 'gpu_hist', 'maxDepth': 3, \n",
        "          'growPolicy': 'depthwise', 'lambda_': 1.0,\n",
        "          'subsample': 1.0, 'numRound': 1000,\n",
        "          'numWorkers': 1, 'verbosity': 1}\n",
        "\n",
        "# create XGBoost model object\n",
        "xgboost = XGBoostClassifier(**params).setLabelCol(target).setFeaturesCols(features)"
      ],
      "execution_count": null,
      "outputs": []
    },
    {
      "cell_type": "code",
      "metadata": {
        "id": "pRowNeZntmQx",
        "colab_type": "code",
        "colab": {
          "base_uri": "https://localhost:8080/",
          "height": 33
        },
        "outputId": "f2e3fc3b-9a28-401c-8cf2-ba4b7ffacccc"
      },
      "source": [
        "start_time = time.time()\n",
        "\n",
        "model = xgboost.fit(train_data)\n",
        "\n",
        "print(\"GPU Training Time: %s seconds\" % (str(time.time() - start_time)))"
      ],
      "execution_count": null,
      "outputs": [
        {
          "output_type": "stream",
          "text": [
            "GPU Training Time: 11.793736219406128 seconds\n"
          ],
          "name": "stdout"
        }
      ]
    },
    {
      "cell_type": "code",
      "metadata": {
        "id": "Q5j_7Zpst-d7",
        "colab_type": "code",
        "colab": {
          "base_uri": "https://localhost:8080/",
          "height": 342
        },
        "outputId": "bbd9da70-9709-42a3-8c6a-34da41e90c90"
      },
      "source": [
        "!nvidia-smi"
      ],
      "execution_count": null,
      "outputs": [
        {
          "output_type": "stream",
          "text": [
            "Sun Aug 30 13:30:29 2020       \n",
            "+-----------------------------------------------------------------------------+\n",
            "| NVIDIA-SMI 450.66       Driver Version: 418.67       CUDA Version: 10.1     |\n",
            "|-------------------------------+----------------------+----------------------+\n",
            "| GPU  Name        Persistence-M| Bus-Id        Disp.A | Volatile Uncorr. ECC |\n",
            "| Fan  Temp  Perf  Pwr:Usage/Cap|         Memory-Usage | GPU-Util  Compute M. |\n",
            "|                               |                      |               MIG M. |\n",
            "|===============================+======================+======================|\n",
            "|   0  Tesla T4            Off  | 00000000:00:04.0 Off |                    0 |\n",
            "| N/A   50C    P0    37W /  70W |   1319MiB / 15079MiB |      0%      Default |\n",
            "|                               |                      |                 ERR! |\n",
            "+-------------------------------+----------------------+----------------------+\n",
            "                                                                               \n",
            "+-----------------------------------------------------------------------------+\n",
            "| Processes:                                                                  |\n",
            "|  GPU   GI   CI        PID   Type   Process name                  GPU Memory |\n",
            "|        ID   ID                                                   Usage      |\n",
            "|=============================================================================|\n",
            "|  No running processes found                                                 |\n",
            "+-----------------------------------------------------------------------------+\n"
          ],
          "name": "stdout"
        }
      ]
    },
    {
      "cell_type": "markdown",
      "metadata": {
        "id": "lJB7YwR-uFqy",
        "colab_type": "text"
      },
      "source": [
        "It took about 12 seconds and used 1339 MiB"
      ]
    },
    {
      "cell_type": "code",
      "metadata": {
        "id": "-XC-DKrD4v-H",
        "colab_type": "code",
        "colab": {}
      },
      "source": [
        "from pyspark.ml.evaluation import BinaryClassificationEvaluator, \\\n",
        "                                  MulticlassClassificationEvaluator\n",
        "\n",
        "accuracy = MulticlassClassificationEvaluator(labelCol=target, \n",
        "                                             predictionCol='prediction',\n",
        "                                             metricName='accuracy')\n",
        "\n",
        "precision = MulticlassClassificationEvaluator(labelCol=target, \n",
        "                                              predictionCol='prediction',\n",
        "                                              metricName='weightedPrecision')\n",
        "\n",
        "recall = MulticlassClassificationEvaluator(labelCol=target, \n",
        "                                           predictionCol='prediction',\n",
        "                                           metricName='weightedRecall')\n",
        "\n",
        "f1 = MulticlassClassificationEvaluator(labelCol=target, \n",
        "                                       predictionCol='prediction',\n",
        "                                       metricName='f1')\n",
        "\n",
        "areaROC = BinaryClassificationEvaluator(labelCol=target,\n",
        "                                        rawPredictionCol='prediction',\n",
        "                                        metricName='areaUnderROC')\n",
        "\n",
        "areaPR = BinaryClassificationEvaluator(labelCol=target,\n",
        "                                       rawPredictionCol='prediction',\n",
        "                                       metricName='areaUnderPR')"
      ],
      "execution_count": null,
      "outputs": []
    },
    {
      "cell_type": "code",
      "metadata": {
        "id": "8YeWM09O_HXI",
        "colab_type": "code",
        "colab": {
          "base_uri": "https://localhost:8080/",
          "height": 337
        },
        "outputId": "02f507d9-9aac-4acd-ae83-13384c923421"
      },
      "source": [
        "# the error metrics\n",
        "metrics = [accuracy, precision, recall, f1, areaROC, areaPR]\n",
        "metric_labels = ['accuracy', 'precision', 'recall', 'f1', 'areaROC', 'areaPR']\n",
        "\n",
        "eval_list = list()\n",
        "\n",
        "# calculate error metrics and add to a Pandas series\n",
        "metric_vals = pd.Series(dict([(x[0], x[1].evaluate(result)) \n",
        "                              for x in zip(metric_labels, metrics)]))\n",
        "    \n",
        "metric_vals"
      ],
      "execution_count": null,
      "outputs": [
        {
          "output_type": "error",
          "ename": "NameError",
          "evalue": "ignored",
          "traceback": [
            "\u001b[0;31m---------------------------------------------------------------------------\u001b[0m",
            "\u001b[0;31mNameError\u001b[0m                                 Traceback (most recent call last)",
            "\u001b[0;32m<ipython-input-16-1dd9f8b5af80>\u001b[0m in \u001b[0;36m<module>\u001b[0;34m()\u001b[0m\n\u001b[1;32m      7\u001b[0m \u001b[0;31m# calculate error metrics and add to a Pandas series\u001b[0m\u001b[0;34m\u001b[0m\u001b[0;34m\u001b[0m\u001b[0;34m\u001b[0m\u001b[0m\n\u001b[1;32m      8\u001b[0m metric_vals = pd.Series(dict([(x[0], x[1].evaluate(result)) \n\u001b[0;32m----> 9\u001b[0;31m                               for x in zip(metric_labels, metrics)]))\n\u001b[0m\u001b[1;32m     10\u001b[0m \u001b[0;34m\u001b[0m\u001b[0m\n\u001b[1;32m     11\u001b[0m \u001b[0mmetric_vals\u001b[0m\u001b[0;34m\u001b[0m\u001b[0;34m\u001b[0m\u001b[0m\n",
            "\u001b[0;32m<ipython-input-16-1dd9f8b5af80>\u001b[0m in \u001b[0;36m<listcomp>\u001b[0;34m(.0)\u001b[0m\n\u001b[1;32m      7\u001b[0m \u001b[0;31m# calculate error metrics and add to a Pandas series\u001b[0m\u001b[0;34m\u001b[0m\u001b[0;34m\u001b[0m\u001b[0;34m\u001b[0m\u001b[0m\n\u001b[1;32m      8\u001b[0m metric_vals = pd.Series(dict([(x[0], x[1].evaluate(result)) \n\u001b[0;32m----> 9\u001b[0;31m                               for x in zip(metric_labels, metrics)]))\n\u001b[0m\u001b[1;32m     10\u001b[0m \u001b[0;34m\u001b[0m\u001b[0m\n\u001b[1;32m     11\u001b[0m \u001b[0mmetric_vals\u001b[0m\u001b[0;34m\u001b[0m\u001b[0;34m\u001b[0m\u001b[0m\n",
            "\u001b[0;31mNameError\u001b[0m: name 'result' is not defined"
          ]
        }
      ]
    },
    {
      "cell_type": "code",
      "metadata": {
        "id": "CvBrnDTLK6XO",
        "colab_type": "code",
        "colab": {}
      },
      "source": [
        ""
      ],
      "execution_count": null,
      "outputs": []
    },
    {
      "cell_type": "code",
      "metadata": {
        "id": "mYPs5gBdK6xX",
        "colab_type": "code",
        "colab": {}
      },
      "source": [
        ""
      ],
      "execution_count": null,
      "outputs": []
    }
  ]
}